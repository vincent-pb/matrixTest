{
 "cells": [
  {
   "cell_type": "code",
   "execution_count": 1,
   "metadata": {},
   "outputs": [],
   "source": [
    "import pandas as pd\n",
    "import numpy as np\n",
    "import time\n",
    "\n",
    "def generate_count_df(rows, cols, min_val=0, max_val=100, seed=42):\n",
    "    \"\"\"\n",
    "    Generate a DataFrame of random integer counts with specified dimensions\n",
    "    \"\"\"\n",
    "    rng = np.random.default_rng(seed)\n",
    "    count_df  = pd.DataFrame(rng.integers(min_val, max_val + 1, size=(rows, cols)))\n",
    "    return count_df"
   ]
  },
  {
   "cell_type": "markdown",
   "metadata": {},
   "source": [
    "# small matrix"
   ]
  },
  {
   "cell_type": "code",
   "execution_count": 2,
   "metadata": {},
   "outputs": [
    {
     "name": "stdout",
     "output_type": "stream",
     "text": [
      "--- Small Matrix Test (10000 x 500) ---\n",
      "DataFrame shapes:\n",
      "- df1_row: (10000, 500)\n",
      "- df1_col: (500, 10000)\n",
      "\n",
      "=== Multiple Operations Profiling ===\n",
      "df1_row std      : 0.051562 ± 0.000987 seconds (mean ± std over 1000 runs)\n",
      "df1_col std      : 0.048520 ± 0.001471 seconds (mean ± std over 1000 runs)\n",
      "df1_row mean     : 0.006009 ± 0.000179 seconds (mean ± std over 1000 runs)\n",
      "df1_col mean     : 0.005399 ± 0.000371 seconds (mean ± std over 1000 runs)\n",
      "df1_row sum      : 0.003168 ± 0.000127 seconds (mean ± std over 1000 runs)\n",
      "df1_col sum      : 0.003037 ± 0.000126 seconds (mean ± std over 1000 runs)\n",
      "df1_row transpose: 0.000083 ± 0.000006 seconds (mean ± std over 1000 runs)\n",
      "df1_col transpose: 0.000638 ± 0.000022 seconds (mean ± std over 1000 runs)\n",
      "df1_row reshape  : 0.000014 ± 0.000006 seconds (mean ± std over 1000 runs)\n",
      "df1_col reshape  : 0.000014 ± 0.000003 seconds (mean ± std over 1000 runs)\n"
     ]
    }
   ],
   "source": [
    "# Generate test matrices\n",
    "n_row = 10_000\n",
    "n_col = 500\n",
    "df1_row = generate_count_df(n_row, n_col)\n",
    "df1_col = generate_count_df(n_col, n_row)\n",
    "\n",
    "\n",
    "# Generate test DataFrames\n",
    "print(f\"--- Small Matrix Test ({n_row} x {n_col}) ---\")\n",
    "print(\"DataFrame shapes:\")\n",
    "print(f\"- df1_row: {df1_row.shape}\")\n",
    "print(f\"- df1_col: {df1_col.shape}\")\n",
    "\n",
    "\n",
    "operations = {\n",
    "    \"df1_row std\": lambda: df1_row.std(axis=1),\n",
    "    \"df1_col std\": lambda: df1_col.std(axis=0),\n",
    "    \"df1_row mean\": lambda: df1_row.mean(axis=1),\n",
    "    \"df1_col mean\": lambda: df1_col.mean(axis=0),\n",
    "    \"df1_row sum\": lambda: df1_row.sum(axis=1),\n",
    "    \"df1_col sum\": lambda: df1_col.sum(axis=0),\n",
    "    \"df1_row transpose\": lambda: df1_row.T,\n",
    "    \"df1_col transpose\": lambda: df1_col.T,\n",
    "    \"df1_row reshape\": lambda: pd.DataFrame(df1_row.values.reshape(-1, 50)),\n",
    "    \"df1_col reshape\": lambda: pd.DataFrame(df1_col.values.reshape(-1, 50)),\n",
    "}\n",
    "\n",
    "print(\"\\n=== Multiple Operations Profiling ===\")\n",
    "# profile multiple DataFrame operations\n",
    "for op_name, operation in operations.items():\n",
    "    times = []\n",
    "    for _ in range(1000):\n",
    "        start_time = time.perf_counter()\n",
    "        operation()\n",
    "        end_time = time.perf_counter()\n",
    "        times.append(end_time - start_time)\n",
    "\n",
    "    mean_time = np.mean(times)\n",
    "    std_time = np.std(times)\n",
    "    print(f\"{op_name:17s}: {mean_time:.6f} ± {std_time:.6f} seconds (mean ± std over 1000 runs)\")"
   ]
  },
  {
   "cell_type": "markdown",
   "metadata": {},
   "source": [
    "# large matrix"
   ]
  },
  {
   "cell_type": "code",
   "execution_count": 3,
   "metadata": {},
   "outputs": [
    {
     "name": "stdout",
     "output_type": "stream",
     "text": [
      "--- Large Matrix Test (100000 x 500) ---\n",
      "DataFrame shapes:\n",
      "- df2_row: (100000, 500)\n",
      "- df2_col: (500, 100000)\n",
      "\n",
      "=== Multiple Operations Profiling ===\n",
      "df2_row std    : 1.079865 ± 0.524880 seconds (mean ± std over 1000 runs)\n",
      "df2_col std    : 0.600393 ± 0.177012 seconds (mean ± std over 1000 runs)\n",
      "df2_row mean   : 0.067530 ± 0.000698 seconds (mean ± std over 1000 runs)\n",
      "df2_col mean   : 0.070661 ± 0.007745 seconds (mean ± std over 1000 runs)\n",
      "df2_row sum    : 0.046184 ± 0.000347 seconds (mean ± std over 1000 runs)\n",
      "df2_col sum    : 0.052997 ± 0.000224 seconds (mean ± std over 1000 runs)\n",
      "df2_row transpose: 0.000084 ± 0.000011 seconds (mean ± std over 1000 runs)\n",
      "df2_col transpose: 0.005900 ± 0.000114 seconds (mean ± std over 1000 runs)\n",
      "df2_row reshape: 0.000014 ± 0.000011 seconds (mean ± std over 1000 runs)\n",
      "df2_col reshape: 0.000014 ± 0.000002 seconds (mean ± std over 1000 runs)\n"
     ]
    }
   ],
   "source": [
    "# Generate test matrices\n",
    "n_row = 100_000\n",
    "n_col = 500\n",
    "\n",
    "df2_row = generate_count_df(n_row, n_col)\n",
    "df2_col = generate_count_df(n_col, n_row)\n",
    "\n",
    "\n",
    "# Generate test DataFrames\n",
    "print(f\"--- Large Matrix Test ({n_row} x {n_col}) ---\")\n",
    "print(\"DataFrame shapes:\")\n",
    "print(f\"- df2_row: {df2_row.shape}\")\n",
    "print(f\"- df2_col: {df2_col.shape}\")\n",
    "\n",
    "\n",
    "operations = {\n",
    "    \"df2_row std\": lambda: df2_row.std(axis=1),\n",
    "    \"df2_col std\": lambda: df2_col.std(axis=0),\n",
    "    \"df2_row mean\": lambda: df2_row.mean(axis=1),\n",
    "    \"df2_col mean\": lambda: df2_col.mean(axis=0),\n",
    "    \"df2_row sum\": lambda: df2_row.sum(axis=1),\n",
    "    \"df2_col sum\": lambda: df2_col.sum(axis=0),\n",
    "    \"df2_row transpose\": lambda: df2_row.T,\n",
    "    \"df2_col transpose\": lambda: df2_col.T,\n",
    "    \"df2_row reshape\": lambda: pd.DataFrame(df2_row.values.reshape(-1, 50)),\n",
    "    \"df2_col reshape\": lambda: pd.DataFrame(df2_col.values.reshape(-1, 50)),\n",
    "}\n",
    "\n",
    "print(\"\\n=== Multiple Operations Profiling ===\")\n",
    "# profile multiple matrix operations\n",
    "for op_name, operation in operations.items():\n",
    "    # Measure individual run times\n",
    "    times = []\n",
    "    for _ in range(1000):\n",
    "        start_time = time.perf_counter()\n",
    "        operation()\n",
    "        end_time = time.perf_counter()\n",
    "        times.append(end_time - start_time)\n",
    "    \n",
    "    mean_time = np.mean(times)\n",
    "    std_time = np.std(times)\n",
    "    print(f\"{op_name:15s}: {mean_time:.6f} ± {std_time:.6f} seconds (mean ± std over 1000 runs)\") "
   ]
  },
  {
   "cell_type": "markdown",
   "metadata": {},
   "source": [
    "# legacy code"
   ]
  },
  {
   "cell_type": "code",
   "execution_count": null,
   "metadata": {},
   "outputs": [],
   "source": [
    "data_rows = pd.DataFrame(np.random.rand(n_col, n_row))\n",
    "\n",
    "start_time = time.time()\n",
    "# Compute std for each feature (row-wise)\n",
    "std_rows = data_rows.std(axis=1)\n",
    "print(std_rows.shape)\n",
    "elapsed_rows = time.time() - start_time\n",
    "\n",
    "print(f\"Case 1 (features as rows): {elapsed_rows:.4f} seconds\")"
   ]
  }
 ],
 "metadata": {
  "kernelspec": {
   "display_name": "dev",
   "language": "python",
   "name": "python3"
  },
  "language_info": {
   "codemirror_mode": {
    "name": "ipython",
    "version": 3
   },
   "file_extension": ".py",
   "mimetype": "text/x-python",
   "name": "python",
   "nbconvert_exporter": "python",
   "pygments_lexer": "ipython3",
   "version": "3.12.11"
  }
 },
 "nbformat": 4,
 "nbformat_minor": 2
}
