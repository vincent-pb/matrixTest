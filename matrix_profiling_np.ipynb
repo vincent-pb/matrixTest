{
 "cells": [
  {
   "cell_type": "code",
   "execution_count": 1,
   "metadata": {},
   "outputs": [],
   "source": [
    "import numpy as np\n",
    "import timeit\n",
    "import time\n",
    "\n",
    "def generate_count_matrix(rows, cols, min_val=0, max_val=100):\n",
    "    \"\"\"\n",
    "    Generate a matrix of random integer counts with specified dimensions\n",
    "    \"\"\"\n",
    "    count_matrix = np.random.randint(min_val, max_val + 1, size=(rows, cols))\n",
    "    return count_matrix\n"
   ]
  },
  {
   "cell_type": "markdown",
   "metadata": {},
   "source": [
    "# small matrix"
   ]
  },
  {
   "cell_type": "code",
   "execution_count": 2,
   "metadata": {},
   "outputs": [
    {
     "name": "stdout",
     "output_type": "stream",
     "text": [
      "\n",
      "=== Multiple Operations Profiling ===\n",
      "--- Small Matrix Test (10000 x 500) ---\n",
      "Matrix shapes:\n",
      "matrix1_row: (10000, 500)\n",
      "matrix1_col: (500, 10000)\n",
      "\n"
     ]
    }
   ],
   "source": [
    "# Generate test matrices\n",
    "n_row = 10_000\n",
    "n_col = 500\n",
    "matrix1_row = generate_count_matrix(n_row, n_col)\n",
    "matrix1_col = generate_count_matrix(n_col, n_row)\n",
    "\n",
    "\n",
    "# Profile multiple matrix operations\n",
    "print(\"\\n=== Multiple Operations Profiling ===\")\n",
    "print(f\"--- Small Matrix Test ({n_row} x {n_col}) ---\")\n",
    "print(\"Matrix shapes:\")\n",
    "print(f\"- matrix1_row: {matrix1_row.shape}\")\n",
    "print(f\"- matrix1_col: {matrix1_col.shape}\\n\")\n",
    "\n",
    "\n",
    "operations = {\n",
    "    \"matrix1_row std\": lambda: np.std(matrix1_row, axis=1),\n",
    "    \"matrix1_col std\": lambda: np.std(matrix1_col, axis=0),\n",
    "    \"matrix1_row mean\": lambda: np.mean(matrix1_row, axis=1),\n",
    "    \"matrix1_col mean\": lambda: np.mean(matrix1_col, axis=0),\n",
    "    \"matrix1_row sum\": lambda: np.sum(matrix1_row, axis=1),\n",
    "    \"matrix1_col sum\": lambda: np.sum(matrix1_col, axis=0),\n",
    "    \"matrix1_row transpose\": lambda: matrix1_row.T,\n",
    "    \"matrix1_col transpose\": lambda: matrix1_col.T,\n",
    "    \"matrix1_row reshape\": lambda: matrix1_row.reshape(-1, 50),\n",
    "    \"matrix1_col reshape\": lambda: matrix1_col.reshape(-1, 50)\n",
    "}"
   ]
  },
  {
   "cell_type": "code",
   "execution_count": 3,
   "metadata": {},
   "outputs": [
    {
     "name": "stdout",
     "output_type": "stream",
     "text": [
      "matrix1_row std: 0.028367 ± 0.001116 seconds (mean ± std over 1000 runs)\n",
      "matrix1_col std: 0.027170 ± 0.000864 seconds (mean ± std over 1000 runs)\n",
      "matrix1_row mean: 0.005000 ± 0.000226 seconds (mean ± std over 1000 runs)\n",
      "matrix1_col mean: 0.004629 ± 0.000226 seconds (mean ± std over 1000 runs)\n",
      "matrix1_row sum: 0.002201 ± 0.000164 seconds (mean ± std over 1000 runs)\n",
      "matrix1_col sum: 0.002470 ± 0.000210 seconds (mean ± std over 1000 runs)\n",
      "matrix1_row transpose: 0.000000 ± 0.000000 seconds (mean ± std over 1000 runs)\n",
      "matrix1_col transpose: 0.000000 ± 0.000000 seconds (mean ± std over 1000 runs)\n",
      "matrix1_row reshape: 0.000000 ± 0.000001 seconds (mean ± std over 1000 runs)\n",
      "matrix1_col reshape: 0.000000 ± 0.000000 seconds (mean ± std over 1000 runs)\n"
     ]
    }
   ],
   "source": [
    "# profile multiple matrix operations\n",
    "for op_name, operation in operations.items():\n",
    "    # Measure individual run times\n",
    "    times = []\n",
    "    for _ in range(1000):\n",
    "        start_time = time.perf_counter()\n",
    "        operation()\n",
    "        end_time = time.perf_counter()\n",
    "        times.append(end_time - start_time)\n",
    "    \n",
    "    mean_time = np.mean(times)\n",
    "    std_time = np.std(times)\n",
    "    print(f\"{op_name:15s}: {mean_time:.6f} ± {std_time:.6f} seconds (mean ± std over 1000 runs)\") "
   ]
  },
  {
   "cell_type": "markdown",
   "metadata": {},
   "source": [
    "# large matrix"
   ]
  },
  {
   "cell_type": "code",
   "execution_count": 4,
   "metadata": {},
   "outputs": [
    {
     "name": "stdout",
     "output_type": "stream",
     "text": [
      "\n",
      "=== Multiple Operations Profiling ===\n",
      "--- Large Matrix Test (100000 x 500) ---\n",
      "Matrix shapes:\n",
      "matrix2_row:  (100000, 500)\n",
      "matrix2_col:  (500, 100000)\n"
     ]
    }
   ],
   "source": [
    "# Generate test matrices\n",
    "n_row = 100_000\n",
    "n_col = 500\n",
    "matrix2_row = generate_count_matrix(n_row, n_col)\n",
    "matrix2_col = generate_count_matrix(n_col, n_row)\n",
    "\n",
    "# Profile multiple matrix operations\n",
    "print(\"\\n=== Multiple Operations Profiling ===\")\n",
    "print(f\"--- Large Matrix Test ({n_row} x {n_col}) ---\")\n",
    "print(\"Matrix shapes:\")\n",
    "print(\"- matrix2_row: \", matrix2_row.shape)\n",
    "print(\"- matrix2_col: \", matrix2_col.shape)\n",
    "\n",
    "operations = {\n",
    "    \"matrix2_row std\": lambda: np.std(matrix2_row, axis=1),\n",
    "    \"matrix2_col std\": lambda: np.std(matrix2_col, axis=0),\n",
    "    \"matrix2_row mean\": lambda: np.mean(matrix2_row, axis=1),\n",
    "    \"matrix2_col mean\": lambda: np.mean(matrix2_col, axis=0),\n",
    "    \"matrix2_row sum\": lambda: np.sum(matrix2_row, axis=1),\n",
    "    \"matrix2_col sum\": lambda: np.sum(matrix2_col, axis=0),\n",
    "    \"matrix2_row transpose\": lambda: matrix2_row.T,\n",
    "    \"matrix2_col transpose\": lambda: matrix2_col.T,\n",
    "    \"matrix2_row reshape\": lambda: matrix2_row.reshape(-1, 50),\n",
    "    \"matrix2_col reshape\": lambda: matrix2_col.reshape(-1, 50)\n",
    "}"
   ]
  },
  {
   "cell_type": "code",
   "execution_count": 5,
   "metadata": {},
   "outputs": [
    {
     "name": "stdout",
     "output_type": "stream",
     "text": [
      "matrix2_row std: 0.348997 ± 0.082030 seconds (mean ± std over 1000 runs)\n",
      "matrix2_col std: 0.336844 ± 0.025020 seconds (mean ± std over 1000 runs)\n",
      "matrix2_row mean: 0.058866 ± 0.001837 seconds (mean ± std over 1000 runs)\n",
      "matrix2_col mean: 0.065929 ± 0.003618 seconds (mean ± std over 1000 runs)\n",
      "matrix2_row sum: 0.038303 ± 0.000427 seconds (mean ± std over 1000 runs)\n",
      "matrix2_col sum: 0.047945 ± 0.000224 seconds (mean ± std over 1000 runs)\n",
      "matrix2_row transpose: 0.000000 ± 0.000000 seconds (mean ± std over 1000 runs)\n",
      "matrix2_col transpose: 0.000000 ± 0.000000 seconds (mean ± std over 1000 runs)\n",
      "matrix2_row reshape: 0.000000 ± 0.000000 seconds (mean ± std over 1000 runs)\n",
      "matrix2_col reshape: 0.000000 ± 0.000000 seconds (mean ± std over 1000 runs)\n"
     ]
    }
   ],
   "source": [
    "# profile multiple matrix operations\n",
    "for op_name, operation in operations.items():\n",
    "    # Measure individual run times\n",
    "    times = []\n",
    "    for _ in range(1000):\n",
    "        start_time = time.perf_counter()\n",
    "        operation()\n",
    "        end_time = time.perf_counter()\n",
    "        times.append(end_time - start_time)\n",
    "    \n",
    "    mean_time = np.mean(times)\n",
    "    std_time = np.std(times)\n",
    "    print(f\"{op_name:15s}: {mean_time:.6f} ± {std_time:.6f} seconds (mean ± std over 1000 runs)\") "
   ]
  },
  {
   "cell_type": "code",
   "execution_count": null,
   "metadata": {},
   "outputs": [],
   "source": []
  }
 ],
 "metadata": {
  "kernelspec": {
   "display_name": "aiml",
   "language": "python",
   "name": "python3"
  },
  "language_info": {
   "codemirror_mode": {
    "name": "ipython",
    "version": 3
   },
   "file_extension": ".py",
   "mimetype": "text/x-python",
   "name": "python",
   "nbconvert_exporter": "python",
   "pygments_lexer": "ipython3",
   "version": "3.12.0"
  }
 },
 "nbformat": 4,
 "nbformat_minor": 2
}
