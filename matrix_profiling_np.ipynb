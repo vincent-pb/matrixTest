{
 "cells": [
  {
   "cell_type": "code",
   "execution_count": null,
   "metadata": {},
   "outputs": [],
   "source": [
    "import numpy as np\n",
    "import timeit\n",
    "import time\n",
    "\n",
    "def generate_count_mat(rows, cols, min_val=0, max_val=100, seed=42):\n",
    "    \"\"\"\n",
    "    Generate a matrix of random integer counts with specified dimensions\n",
    "    \"\"\"\n",
    "    rng = np.random.default_rng(seed)\n",
    "    count_mat = rng.integers(min_val, max_val + 1, size=(rows, cols))\n",
    "    return count_mat"
   ]
  },
  {
   "cell_type": "markdown",
   "metadata": {},
   "source": [
    "# small matrix"
   ]
  },
  {
   "cell_type": "code",
   "execution_count": 2,
   "metadata": {},
   "outputs": [
    {
     "name": "stdout",
     "output_type": "stream",
     "text": [
      "--- Small Matrix Test (10000 x 500) ---\n",
      "Matrix shapes:\n",
      "- mat1_row: (10000, 500)\n",
      "- mat1_col: (500, 10000)\n",
      "\n",
      "=== Multiple Operations Profiling ===\n",
      "mat1_row std   : 0.032689 ± 0.000834 seconds (mean ± std over 1000 runs)\n",
      "mat1_col std   : 0.030677 ± 0.001359 seconds (mean ± std over 1000 runs)\n",
      "mat1_row mean  : 0.005789 ± 0.000095 seconds (mean ± std over 1000 runs)\n",
      "mat1_col mean  : 0.005915 ± 0.000395 seconds (mean ± std over 1000 runs)\n",
      "mat1_row sum   : 0.003081 ± 0.000160 seconds (mean ± std over 1000 runs)\n",
      "mat1_col sum   : 0.003322 ± 0.000121 seconds (mean ± std over 1000 runs)\n",
      "mat1_row transpose: 0.000000 ± 0.000000 seconds (mean ± std over 1000 runs)\n",
      "mat1_col transpose: 0.000000 ± 0.000000 seconds (mean ± std over 1000 runs)\n",
      "mat1_row reshape: 0.000000 ± 0.000000 seconds (mean ± std over 1000 runs)\n",
      "mat1_col reshape: 0.000000 ± 0.000000 seconds (mean ± std over 1000 runs)\n"
     ]
    }
   ],
   "source": [
    "# Generate test matrices\n",
    "n_row = 10_000\n",
    "n_col = 500\n",
    "mat1_row = generate_count_mat(n_row, n_col)\n",
    "mat1_col = generate_count_mat(n_col, n_row)\n",
    "\n",
    "\n",
    "# Profile multiple matrix operations\n",
    "print(f\"--- Small Matrix Test ({n_row} x {n_col}) ---\")\n",
    "print(\"Matrix shapes:\")\n",
    "print(f\"- mat1_row: {mat1_row.shape}\")\n",
    "print(f\"- mat1_col: {mat1_col.shape}\")\n",
    "\n",
    "operations = {\n",
    "    \"mat1_row std\": lambda: np.std(mat1_row, axis=1),\n",
    "    \"mat1_col std\": lambda: np.std(mat1_col, axis=0),\n",
    "    \"mat1_row mean\": lambda: np.mean(mat1_row, axis=1),\n",
    "    \"mat1_col mean\": lambda: np.mean(mat1_col, axis=0),\n",
    "    \"mat1_row sum\": lambda: np.sum(mat1_row, axis=1),\n",
    "    \"mat1_col sum\": lambda: np.sum(mat1_col, axis=0),\n",
    "    \"mat1_row transpose\": lambda: mat1_row.T,\n",
    "    \"mat1_col transpose\": lambda: mat1_col.T,\n",
    "    \"mat1_row reshape\": lambda: mat1_row.reshape(-1, 50),\n",
    "    \"mat1_col reshape\": lambda: mat1_col.reshape(-1, 50)\n",
    "}\n",
    "\n",
    "print(\"\\n=== Multiple Operations Profiling ===\")\n",
    "# profile multiple matrix operations\n",
    "for op_name, operation in operations.items():\n",
    "    # Measure individual run times\n",
    "    times = []\n",
    "    for _ in range(1000):\n",
    "        start_time = time.perf_counter()\n",
    "        operation()\n",
    "        end_time = time.perf_counter()\n",
    "        times.append(end_time - start_time)\n",
    "    \n",
    "    mean_time = np.mean(times)\n",
    "    std_time = np.std(times)\n",
    "    print(f\"{op_name:15s}: {mean_time:.6f} ± {std_time:.6f} seconds (mean ± std over 1000 runs)\") "
   ]
  },
  {
   "cell_type": "markdown",
   "metadata": {},
   "source": [
    "# large matrix"
   ]
  },
  {
   "cell_type": "code",
   "execution_count": 3,
   "metadata": {},
   "outputs": [
    {
     "name": "stdout",
     "output_type": "stream",
     "text": [
      "--- Large Matrix Test (100000 x 500) ---\n",
      "Matrix shapes:\n",
      "- mat2_row:  (100000, 500)\n",
      "- mat2_col:  (500, 100000)\n",
      "\n",
      "=== Multiple Operations Profiling ===\n",
      "mat2_row std   : 0.339105 ± 0.013733 seconds (mean ± std over 1000 runs)\n",
      "mat2_col std   : 0.453834 ± 0.155855 seconds (mean ± std over 1000 runs)\n",
      "mat2_row mean  : 0.056295 ± 0.000564 seconds (mean ± std over 1000 runs)\n",
      "mat2_col mean  : 0.059546 ± 0.001250 seconds (mean ± std over 1000 runs)\n",
      "mat2_row sum   : 0.036302 ± 0.000322 seconds (mean ± std over 1000 runs)\n",
      "mat2_col sum   : 0.046006 ± 0.000667 seconds (mean ± std over 1000 runs)\n",
      "mat2_row transpose: 0.000000 ± 0.000000 seconds (mean ± std over 1000 runs)\n",
      "mat2_col transpose: 0.000000 ± 0.000000 seconds (mean ± std over 1000 runs)\n",
      "mat2_row reshape: 0.000000 ± 0.000000 seconds (mean ± std over 1000 runs)\n",
      "mat2_col reshape: 0.000000 ± 0.000001 seconds (mean ± std over 1000 runs)\n"
     ]
    }
   ],
   "source": [
    "# Generate test matrices\n",
    "n_row = 100_000\n",
    "n_col = 500\n",
    "mat2_row = generate_count_mat(n_row, n_col)\n",
    "mat2_col = generate_count_mat(n_col, n_row)\n",
    "\n",
    "# Profile multiple matrix operations\n",
    "print(f\"--- Large Matrix Test ({n_row} x {n_col}) ---\")\n",
    "print(\"Matrix shapes:\")\n",
    "print(\"- mat2_row: \", mat2_row.shape)\n",
    "print(\"- mat2_col: \", mat2_col.shape)\n",
    "\n",
    "operations = {\n",
    "    \"mat2_row std\": lambda: np.std(mat2_row, axis=1),\n",
    "    \"mat2_col std\": lambda: np.std(mat2_col, axis=0),\n",
    "    \"mat2_row mean\": lambda: np.mean(mat2_row, axis=1),\n",
    "    \"mat2_col mean\": lambda: np.mean(mat2_col, axis=0),\n",
    "    \"mat2_row sum\": lambda: np.sum(mat2_row, axis=1),\n",
    "    \"mat2_col sum\": lambda: np.sum(mat2_col, axis=0),\n",
    "    \"mat2_row transpose\": lambda: mat2_row.T,\n",
    "    \"mat2_col transpose\": lambda: mat2_col.T,\n",
    "    \"mat2_row reshape\": lambda: mat2_row.reshape(-1, 50),\n",
    "    \"mat2_col reshape\": lambda: mat2_col.reshape(-1, 50)\n",
    "}\n",
    "\n",
    "print(\"\\n=== Multiple Operations Profiling ===\")\n",
    "# profile multiple matrix operations\n",
    "for op_name, operation in operations.items():\n",
    "    # Measure individual run times\n",
    "    times = []\n",
    "    for _ in range(1000):\n",
    "        start_time = time.perf_counter()\n",
    "        operation()\n",
    "        end_time = time.perf_counter()\n",
    "        times.append(end_time - start_time)\n",
    "    \n",
    "    mean_time = np.mean(times)\n",
    "    std_time = np.std(times)\n",
    "    print(f\"{op_name:15s}: {mean_time:.6f} ± {std_time:.6f} seconds (mean ± std over 1000 runs)\") "
   ]
  },
  {
   "cell_type": "code",
   "execution_count": null,
   "metadata": {},
   "outputs": [],
   "source": []
  }
 ],
 "metadata": {
  "kernelspec": {
   "display_name": "dev",
   "language": "python",
   "name": "python3"
  },
  "language_info": {
   "codemirror_mode": {
    "name": "ipython",
    "version": 3
   },
   "file_extension": ".py",
   "mimetype": "text/x-python",
   "name": "python",
   "nbconvert_exporter": "python",
   "pygments_lexer": "ipython3",
   "version": "3.12.11"
  }
 },
 "nbformat": 4,
 "nbformat_minor": 2
}
